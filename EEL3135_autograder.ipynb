{
 "cells": [
  {
   "cell_type": "markdown",
   "id": "e87cefcc",
   "metadata": {},
   "source": [
    "# EEL 3135 autograder"
   ]
  },
  {
   "cell_type": "markdown",
   "id": "7f73fed6",
   "metadata": {},
   "source": [
    "Outline of how it works:<br>\n",
    "Matlab will generate two things from out templates: <br>\n",
    "A .json file that tells out program what files to look for, and Qx files that contain variables we want to analyze.<br>\n",
    "Our c++ program then reads in those files and make sure they contain data they want<br>\n",
    "We will only have a compiled c++ program sitting in the repo to prevent cheating<br>"
   ]
  },
  {
   "cell_type": "markdown",
   "id": "ff38759d-6b49-4208-93d8-0b1a5bd17204",
   "metadata": {},
   "source": [
    "# c++ code structure:\n",
    "<i>key_generator:</i><br>\n",
    "Just has a ton of static helper functions, typically to eae transfering matlab code to c++ such as the function that just\n",
    "implements matlabs 1:1:1 notation<br>\n",
    "<i>jparse:</i><br>\n",
    "These file actually reads in and does the lab in c++ essentially. Should need to be altered for each lab, not for each <b>NOT FOR EACH ITERATION OF THE LAB THOUGH</b><br>\n",
    "questions:<br>\n",
    "These file <b>Will change every iteration of the lab</b> and should be relatively self-explanatory when looking at<br>\n",
    "main:<br>\n",
    "Builds an array with booleans that hold whether a test case was passed or not. Then returns whatever index is passed in the command line<br>\n",
    "the .github/classroom/autograder.json should pass these indexes through the command line<br>\n"
   ]
  },
  {
   "cell_type": "code",
   "execution_count": null,
   "id": "6cb70c51-a014-454c-ab9c-bcdd68f27c94",
   "metadata": {},
   "outputs": [],
   "source": []
  }
 ],
 "metadata": {
  "kernelspec": {
   "display_name": "Python 3 (ipykernel)",
   "language": "python",
   "name": "python3"
  },
  "language_info": {
   "codemirror_mode": {
    "name": "ipython",
    "version": 3
   },
   "file_extension": ".py",
   "mimetype": "text/x-python",
   "name": "python",
   "nbconvert_exporter": "python",
   "pygments_lexer": "ipython3",
   "version": "3.10.12"
  }
 },
 "nbformat": 4,
 "nbformat_minor": 5
}
